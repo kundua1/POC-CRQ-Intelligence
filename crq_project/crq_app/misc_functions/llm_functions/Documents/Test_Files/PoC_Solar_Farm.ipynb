{
  "nbformat": 4,
  "nbformat_minor": 0,
  "metadata": {
    "colab": {
      "provenance": []
    },
    "kernelspec": {
      "name": "python3",
      "display_name": "Python 3"
    },
    "language_info": {
      "name": "python"
    }
  },
  "cells": [
    {
      "cell_type": "code",
      "source": [
        "import requests\n",
        "from PIL import Image\n",
        "from transformers import BlipProcessor, BlipForConditionalGeneration"
      ],
      "metadata": {
        "id": "MD02gl9pFsMf"
      },
      "execution_count": null,
      "outputs": []
    },
    {
      "cell_type": "code",
      "source": [
        "processor = BlipProcessor.from_pretrained(\"Salesforce/blip-image-captioning-large\")\n",
        "model = BlipForConditionalGeneration.from_pretrained(\"Salesforce/blip-image-captioning-large\")"
      ],
      "metadata": {
        "id": "oQs-hisaFyx1"
      },
      "execution_count": null,
      "outputs": []
    },
    {
      "cell_type": "code",
      "source": [
        "img = Image.open(\"/content/D1-Solar Panel.jpg\").convert('RGB')"
      ],
      "metadata": {
        "id": "4U4PljcfG321"
      },
      "execution_count": 21,
      "outputs": []
    },
    {
      "cell_type": "code",
      "source": [
        "text = \"a photography of\"\n",
        "inputs = processor(img, text, return_tensors=\"pt\")\n",
        "\n",
        "out = model.generate(**inputs)\n",
        "print(processor.decode(out[0], skip_special_tokens=True))"
      ],
      "metadata": {
        "id": "-POBEpVgGhN3"
      },
      "execution_count": null,
      "outputs": []
    },
    {
      "cell_type": "code",
      "source": [
        "user_input=processor.decode(out[0], skip_special_tokens=True)"
      ],
      "metadata": {
        "id": "UMkceA5qRZM3"
      },
      "execution_count": null,
      "outputs": []
    },
    {
      "cell_type": "code",
      "source": [
        "pip install python-docx"
      ],
      "metadata": {
        "id": "yldD8-N5SnI9"
      },
      "execution_count": null,
      "outputs": []
    },
    {
      "cell_type": "code",
      "source": [
        "from docx import Document"
      ],
      "metadata": {
        "id": "5jhRbptXSe4d"
      },
      "execution_count": null,
      "outputs": []
    },
    {
      "cell_type": "code",
      "source": [
        "def read_docx_text(filepath):\n",
        "  \"\"\"Reads text from a .docx file and stores it in a variable.\n",
        "\n",
        "  Args:\n",
        "    filepath: Path to the .docx file.\n",
        "\n",
        "  Returns:\n",
        "    Extracted text as a string.\n",
        "  \"\"\"\n",
        "  doc = Document(filepath)\n",
        "  all_paragraphs = \"\"\n",
        "  for paragraph in doc.paragraphs:\n",
        "    all_paragraphs += paragraph.text + \"\\n\"\n",
        "  return all_paragraphs\n",
        "\n",
        "# Example usage\n",
        "SOP = read_docx_text(\"/content/Broken Window Manual.docx\")\n",
        "print(SOP)"
      ],
      "metadata": {
        "id": "EEsZ8ko_SuhQ"
      },
      "execution_count": null,
      "outputs": []
    },
    {
      "cell_type": "code",
      "source": [
        "pip install openai"
      ],
      "metadata": {
        "id": "3DP45cPDKk1Z"
      },
      "execution_count": null,
      "outputs": []
    },
    {
      "cell_type": "code",
      "source": [
        "import openai"
      ],
      "metadata": {
        "id": "V5v5x0ieLRcV"
      },
      "execution_count": null,
      "outputs": []
    },
    {
      "cell_type": "code",
      "source": [
        "from openai import AzureOpenAI"
      ],
      "metadata": {
        "id": "1xw0fFFhKsNw"
      },
      "execution_count": null,
      "outputs": []
    },
    {
      "cell_type": "code",
      "source": [
        "api_type = \"azure\"\n",
        "api_base = \"https://sce-gpt-poc.openai.azure.com/\"\n",
        "api_version = \"2023-09-15-preview\"\n",
        "api_key = \"92cbbe8353ec48f9b1817eb0a0bbf437\"\n",
        "deployment_name = 'chatgpt'"
      ],
      "metadata": {
        "id": "IvDugJceKwBa"
      },
      "execution_count": null,
      "outputs": []
    },
    {
      "cell_type": "code",
      "source": [
        "client = AzureOpenAI(\n",
        "    api_key=api_key,\n",
        "    api_version=api_version,\n",
        "    base_url=f\"{api_base}/openai/deployments/{deployment_name}\"\n",
        ")"
      ],
      "metadata": {
        "id": "bcjHbot0LiaX"
      },
      "execution_count": null,
      "outputs": []
    },
    {
      "cell_type": "code",
      "source": [
        "response = client.completions.create(\n",
        "    model=deployment_name,\n",
        "    prompt=\"\"\"You are an expert staff who 9knows how to do repair and maintenance of so;ar panels.\n",
        "\n",
        "    Step 1: Understand whether or not there are objects detected on a solar panel from {ui}\n",
        "    Step 2: Suggest the right course of action to mitigate the risk\n",
        "\n",
        "    Strictly follow the below instructions while giving your answer:\n",
        "    1. Please Mention only the steps that shpold be taken and not anything else.\n",
        "    2. Give step by step instructions and only in plain text format\n",
        "    3. After mentioning the steps, do not mention anything else\n",
        "\n",
        "    \"\"\".format(ui=\"a photography of a red glove on the ground next to a solar panel\"),\n",
        "    max_tokens=150\n",
        ")\n",
        "print(response.choices[0].text)\n",
        "text = response.choices[0].text"
      ],
      "metadata": {
        "colab": {
          "base_uri": "https://localhost:8080/"
        },
        "id": "KF1vSu9kMA-T",
        "outputId": "08b9e58f-adbf-4344-f646-f75e203ad529"
      },
      "execution_count": null,
      "outputs": [
        {
          "output_type": "stream",
          "name": "stdout",
          "text": [
            " \"\"\")\n",
            "\n",
            "red_glove_solar_panel = input(\"Is there a photograph of a red glove next to a solar panel(Y/N): \").upper()\n",
            "if red_glove_solar_panel == \"Y\":\n",
            "  print(\"\"\"\n",
            "    The steps to be followed to mitigate the risk are as follows :\n",
            "    Step 1: Remove The object detected On The  Solar Panel.\n",
            "\n",
            "    Step 2: Turn off the solar circuit or electric supply powering the lawn or ground.\n",
            "    \n",
            "    Step 3: Put on the necessary safety equipment to ensure the safety and to prevent electric shock.\n",
            "    \n",
            "    Step 4: Turn off the electric supply to prevent any accidents due to short circuits\n",
            "    \n",
            "    Step 5: Clean the surface of the solar panel to help reduce or\n"
          ]
        }
      ]
    },
    {
      "cell_type": "code",
      "source": [
        "# Install the deep_translator module\n",
        "!pip install deep_translator\n",
        "\n",
        "# Import the necessary modules\n",
        "from deep_translator import GoogleTranslator\n",
        "\n",
        "# Create a translator object\n",
        "translator = GoogleTranslator(source='auto', target='hi')\n",
        "\n",
        "# Define a function to translate text to Hindi\n",
        "def translate_to_hindi(text):\n",
        "  translation = translator.translate(text)\n",
        "  return translation\n",
        "\n",
        "# Get the input text from the user\n",
        "input_text = text\n",
        "\n",
        "# Translate the input text to Hindi\n",
        "translated_text = translate_to_hindi(input_text)\n",
        "\n",
        "# Print the translated text\n",
        "print(translated_text)"
      ],
      "metadata": {
        "colab": {
          "base_uri": "https://localhost:8080/"
        },
        "id": "c7LlqdVtCzB0",
        "outputId": "4f1c1693-5ec9-4e95-cecc-12a1da320bf3"
      },
      "execution_count": null,
      "outputs": [
        {
          "output_type": "stream",
          "name": "stdout",
          "text": [
            "Collecting deep_translator\n",
            "  Downloading deep_translator-1.11.4-py3-none-any.whl (42 kB)\n",
            "\u001b[?25l     \u001b[90m━━━━━━━━━━━━━━━━━━━━━━━━━━━━━━━━━━━━━━━━\u001b[0m \u001b[32m0.0/42.3 kB\u001b[0m \u001b[31m?\u001b[0m eta \u001b[36m-:--:--\u001b[0m\r\u001b[2K     \u001b[90m━━━━━━━━━━━━━━━━━━━━━━━━━━━━━━━━━━━━━━━━\u001b[0m \u001b[32m42.3/42.3 kB\u001b[0m \u001b[31m1.8 MB/s\u001b[0m eta \u001b[36m0:00:00\u001b[0m\n",
            "\u001b[?25hRequirement already satisfied: beautifulsoup4<5.0.0,>=4.9.1 in /usr/local/lib/python3.10/dist-packages (from deep_translator) (4.12.3)\n",
            "Requirement already satisfied: requests<3.0.0,>=2.23.0 in /usr/local/lib/python3.10/dist-packages (from deep_translator) (2.31.0)\n",
            "Requirement already satisfied: soupsieve>1.2 in /usr/local/lib/python3.10/dist-packages (from beautifulsoup4<5.0.0,>=4.9.1->deep_translator) (2.5)\n",
            "Requirement already satisfied: charset-normalizer<4,>=2 in /usr/local/lib/python3.10/dist-packages (from requests<3.0.0,>=2.23.0->deep_translator) (3.3.2)\n",
            "Requirement already satisfied: idna<4,>=2.5 in /usr/local/lib/python3.10/dist-packages (from requests<3.0.0,>=2.23.0->deep_translator) (3.6)\n",
            "Requirement already satisfied: urllib3<3,>=1.21.1 in /usr/local/lib/python3.10/dist-packages (from requests<3.0.0,>=2.23.0->deep_translator) (2.0.7)\n",
            "Requirement already satisfied: certifi>=2017.4.17 in /usr/local/lib/python3.10/dist-packages (from requests<3.0.0,>=2.23.0->deep_translator) (2024.2.2)\n",
            "Installing collected packages: deep_translator\n",
            "Successfully installed deep_translator-1.11.4\n",
            "\"\"\")\n",
            "\n",
            "red_glove_solar_panel = इनपुट(\"क्या सोलर पैनल के बगल में लाल दस्ताने की तस्वीर है(Y/N):\").upper()\n",
            "यदि red_glove_solar_panel == \"Y\":\n",
            "  प्रिंट(\"\"\"\n",
            "    जोखिम को कम करने के लिए अपनाए जाने वाले कदम इस प्रकार हैं:\n",
            "    चरण 1: सौर पैनल पर पाई गई वस्तु को हटा दें।\n",
            "\n",
            "    चरण 2: लॉन या जमीन को बिजली देने वाले सौर सर्किट या विद्युत आपूर्ति को बंद कर दें।\n",
            "    \n",
            "    चरण 3: सुरक्षा सुनिश्चित करने और बिजली के झटके को रोकने के लिए आवश्यक सुरक्षा उपकरण लगाएं।\n",
            "    \n",
            "    चरण 4: शॉर्ट सर्किट के कारण होने वाली किसी भी दुर्घटना को रोकने के लिए बिजली की आपूर्ति बंद कर दें\n",
            "    \n",
            "    चरण 5: कम करने में सहायता के लिए सौर पैनल की सतह को साफ करें\n"
          ]
        }
      ]
    },
    {
      "cell_type": "code",
      "source": [
        "pip install azure-cognitiveservices-speech"
      ],
      "metadata": {
        "id": "tYA73CYgwCng"
      },
      "execution_count": null,
      "outputs": []
    },
    {
      "cell_type": "code",
      "source": [
        "pip install python-dotenv"
      ],
      "metadata": {
        "id": "7LkcKCS5yxoo"
      },
      "execution_count": null,
      "outputs": []
    },
    {
      "cell_type": "code",
      "source": [
        "%%writefile .env\n",
        "# Add your environment variables here\n",
        "SPEECH_KEY = 4806bf3bda8e4248b8bf0a3a4be767f7\n",
        "SPEECH_REGION = eastus"
      ],
      "metadata": {
        "colab": {
          "base_uri": "https://localhost:8080/"
        },
        "id": "kfbQD7NI35t6",
        "outputId": "a8d450fe-c7d5-4619-acfb-0d73503b8588"
      },
      "execution_count": 25,
      "outputs": [
        {
          "output_type": "stream",
          "name": "stdout",
          "text": [
            "Overwriting .env\n"
          ]
        }
      ]
    },
    {
      "cell_type": "code",
      "source": [
        "!ls -la"
      ],
      "metadata": {
        "id": "k0GhRZs24dgR"
      },
      "execution_count": null,
      "outputs": []
    },
    {
      "cell_type": "code",
      "source": [
        "pip install --upgrade azure-cognitiveservices-speech"
      ],
      "metadata": {
        "id": "gQ7zk7Gq40Ug"
      },
      "execution_count": null,
      "outputs": []
    },
    {
      "cell_type": "code",
      "source": [
        "import os\n",
        "import azure.cognitiveservices.speech as speechsdk"
      ],
      "metadata": {
        "id": "5vGja7QLwIrt"
      },
      "execution_count": 29,
      "outputs": []
    },
    {
      "cell_type": "code",
      "source": [
        "speech_key, service_region,endpoint = \"4806bf3bda8e4248b8bf0a3a4be767f7\", \"eastus\",\"https://eastus.api.cognitive.microsoft.com/\"\n",
        "\n",
        "speech_config = speechsdk.SpeechConfig(subscription=speech_key,endpoint=endpoint)\n",
        "\n",
        "speech_config.speech_synthesis_voice_name='en-US-AvaMultilingualNeural'\n",
        "\n",
        "speech_synthesizer = speechsdk.SpeechSynthesizer(speech_config=speech_config)\n",
        "\n",
        "print(\"Type some text that you want to speak...\")\n",
        "text = input()\n",
        "\n",
        "\n",
        "result = speech_synthesizer.speak_text_async(text).get()\n",
        "\n",
        "\n",
        "if result.reason == speechsdk.ResultReason.SynthesizingAudioCompleted:\n",
        "    print(\"Speech synthesized to speaker for text [{}]\".format(text))\n",
        "elif result.reason == speechsdk.ResultReason.Canceled:\n",
        "    cancellation_details = result.cancellation_details\n",
        "    print(\"Speech synthesis canceled: {}\".format(cancellation_details.reason))\n",
        "    if cancellation_details.reason == speechsdk.CancellationReason.Error:\n",
        "        if cancellation_details.error_details:\n",
        "            print(\"Error details: {}\".format(cancellation_details.error_details))\n",
        "    print(\"Did you update the subscription info?\")"
      ],
      "metadata": {
        "colab": {
          "base_uri": "https://localhost:8080/"
        },
        "id": "x2bsS45qCt61",
        "outputId": "57708ab3-7834-4d4f-acc3-b7843cf11f38"
      },
      "execution_count": 47,
      "outputs": [
        {
          "output_type": "stream",
          "name": "stdout",
          "text": [
            "Type some text that you want to speak...\n",
            "Hello World\n",
            "Speech synthesis canceled: CancellationReason.Error\n",
            "Error details: Internal error: Unexpected exception while sending HTTP request - Runtime error: Failed to initialize platform (azure-c-shared). Error: 2176\n",
            "Did you update the subscription info?\n"
          ]
        }
      ]
    }
  ]
}